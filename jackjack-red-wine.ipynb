{
 "cells": [
  {
   "cell_type": "markdown",
   "id": "c58ca901",
   "metadata": {
    "papermill": {
     "duration": 0.008357,
     "end_time": "2022-10-05T11:20:02.346522",
     "exception": false,
     "start_time": "2022-10-05T11:20:02.338165",
     "status": "completed"
    },
    "tags": []
   },
   "source": [
    "**This notebook is an exercise in the [Intro to Deep Learning](https://www.kaggle.com/learn/intro-to-deep-learning) course.  You can reference the tutorial at [this link](https://www.kaggle.com/ryanholbrook/a-single-neuron).**\n",
    "\n",
    "---\n"
   ]
  },
  {
   "cell_type": "markdown",
   "id": "1701d294",
   "metadata": {
    "papermill": {
     "duration": 0.004697,
     "end_time": "2022-10-05T11:20:02.356618",
     "exception": false,
     "start_time": "2022-10-05T11:20:02.351921",
     "status": "completed"
    },
    "tags": []
   },
   "source": [
    "# Introduction #\n",
    "\n",
    "In the tutorial we learned about the building blocks of neural networks: *linear units*. We saw that a model of just one linear unit will fit a linear function to a dataset (equivalent to linear regression). In this exercise, you'll build a linear model and get some practice working with models in Keras.\n",
    "\n",
    "Before you get started, run the code cell below to set everything up."
   ]
  },
  {
   "cell_type": "code",
   "execution_count": 1,
   "id": "51118fd3",
   "metadata": {
    "execution": {
     "iopub.execute_input": "2022-10-05T11:20:02.369134Z",
     "iopub.status.busy": "2022-10-05T11:20:02.368096Z",
     "iopub.status.idle": "2022-10-05T11:20:08.053543Z",
     "shell.execute_reply": "2022-10-05T11:20:08.052577Z"
    },
    "papermill": {
     "duration": 5.694837,
     "end_time": "2022-10-05T11:20:08.056319",
     "exception": false,
     "start_time": "2022-10-05T11:20:02.361482",
     "status": "completed"
    },
    "tags": []
   },
   "outputs": [],
   "source": [
    "import matplotlib.pyplot as plt \n",
    "\n",
    "plt.style.use('seaborn-whitegrid')\n",
    "\n",
    "plt.rc('figure', autolayout = True)\n",
    "plt.rc('axes', labelweight='bold', labelsize='large', \n",
    "       titleweight='bold', titlesize=18, titlepad=10)\n",
    "\n",
    "from learntools.core import binder\n",
    "binder.bind(globals())\n",
    "from learntools.deep_learning_intro.ex1 import *"
   ]
  },
  {
   "cell_type": "code",
   "execution_count": null,
   "id": "dde88e4b",
   "metadata": {
    "papermill": {
     "duration": 0.00443,
     "end_time": "2022-10-05T11:20:08.065608",
     "exception": false,
     "start_time": "2022-10-05T11:20:08.061178",
     "status": "completed"
    },
    "tags": []
   },
   "outputs": [],
   "source": []
  },
  {
   "cell_type": "markdown",
   "id": "11114ea9",
   "metadata": {
    "papermill": {
     "duration": 0.004557,
     "end_time": "2022-10-05T11:20:08.074819",
     "exception": false,
     "start_time": "2022-10-05T11:20:08.070262",
     "status": "completed"
    },
    "tags": []
   },
   "source": [
    "The *Red Wine Quality* dataset consists of physiochemical measurements from about 1600 Portuguese red wines.  Also included is a quality rating for each wine from blind taste-tests. \n",
    "\n",
    "First, run the next cell to display the first few rows of this dataset."
   ]
  },
  {
   "cell_type": "code",
   "execution_count": 2,
   "id": "b56a7a22",
   "metadata": {
    "execution": {
     "iopub.execute_input": "2022-10-05T11:20:08.086909Z",
     "iopub.status.busy": "2022-10-05T11:20:08.085872Z",
     "iopub.status.idle": "2022-10-05T11:20:08.134700Z",
     "shell.execute_reply": "2022-10-05T11:20:08.133763Z"
    },
    "papermill": {
     "duration": 0.059301,
     "end_time": "2022-10-05T11:20:08.138784",
     "exception": false,
     "start_time": "2022-10-05T11:20:08.079483",
     "status": "completed"
    },
    "tags": []
   },
   "outputs": [
    {
     "data": {
      "text/html": [
       "<div>\n",
       "<style scoped>\n",
       "    .dataframe tbody tr th:only-of-type {\n",
       "        vertical-align: middle;\n",
       "    }\n",
       "\n",
       "    .dataframe tbody tr th {\n",
       "        vertical-align: top;\n",
       "    }\n",
       "\n",
       "    .dataframe thead th {\n",
       "        text-align: right;\n",
       "    }\n",
       "</style>\n",
       "<table border=\"1\" class=\"dataframe\">\n",
       "  <thead>\n",
       "    <tr style=\"text-align: right;\">\n",
       "      <th></th>\n",
       "      <th>fixed acidity</th>\n",
       "      <th>volatile acidity</th>\n",
       "      <th>citric acid</th>\n",
       "      <th>residual sugar</th>\n",
       "      <th>chlorides</th>\n",
       "      <th>free sulfur dioxide</th>\n",
       "      <th>total sulfur dioxide</th>\n",
       "      <th>density</th>\n",
       "      <th>pH</th>\n",
       "      <th>sulphates</th>\n",
       "      <th>alcohol</th>\n",
       "      <th>quality</th>\n",
       "    </tr>\n",
       "  </thead>\n",
       "  <tbody>\n",
       "    <tr>\n",
       "      <th>0</th>\n",
       "      <td>7.4</td>\n",
       "      <td>0.70</td>\n",
       "      <td>0.00</td>\n",
       "      <td>1.9</td>\n",
       "      <td>0.076</td>\n",
       "      <td>11.0</td>\n",
       "      <td>34.0</td>\n",
       "      <td>0.9978</td>\n",
       "      <td>3.51</td>\n",
       "      <td>0.56</td>\n",
       "      <td>9.4</td>\n",
       "      <td>5</td>\n",
       "    </tr>\n",
       "    <tr>\n",
       "      <th>1</th>\n",
       "      <td>7.8</td>\n",
       "      <td>0.88</td>\n",
       "      <td>0.00</td>\n",
       "      <td>2.6</td>\n",
       "      <td>0.098</td>\n",
       "      <td>25.0</td>\n",
       "      <td>67.0</td>\n",
       "      <td>0.9968</td>\n",
       "      <td>3.20</td>\n",
       "      <td>0.68</td>\n",
       "      <td>9.8</td>\n",
       "      <td>5</td>\n",
       "    </tr>\n",
       "    <tr>\n",
       "      <th>2</th>\n",
       "      <td>7.8</td>\n",
       "      <td>0.76</td>\n",
       "      <td>0.04</td>\n",
       "      <td>2.3</td>\n",
       "      <td>0.092</td>\n",
       "      <td>15.0</td>\n",
       "      <td>54.0</td>\n",
       "      <td>0.9970</td>\n",
       "      <td>3.26</td>\n",
       "      <td>0.65</td>\n",
       "      <td>9.8</td>\n",
       "      <td>5</td>\n",
       "    </tr>\n",
       "    <tr>\n",
       "      <th>3</th>\n",
       "      <td>11.2</td>\n",
       "      <td>0.28</td>\n",
       "      <td>0.56</td>\n",
       "      <td>1.9</td>\n",
       "      <td>0.075</td>\n",
       "      <td>17.0</td>\n",
       "      <td>60.0</td>\n",
       "      <td>0.9980</td>\n",
       "      <td>3.16</td>\n",
       "      <td>0.58</td>\n",
       "      <td>9.8</td>\n",
       "      <td>6</td>\n",
       "    </tr>\n",
       "    <tr>\n",
       "      <th>4</th>\n",
       "      <td>7.4</td>\n",
       "      <td>0.70</td>\n",
       "      <td>0.00</td>\n",
       "      <td>1.9</td>\n",
       "      <td>0.076</td>\n",
       "      <td>11.0</td>\n",
       "      <td>34.0</td>\n",
       "      <td>0.9978</td>\n",
       "      <td>3.51</td>\n",
       "      <td>0.56</td>\n",
       "      <td>9.4</td>\n",
       "      <td>5</td>\n",
       "    </tr>\n",
       "  </tbody>\n",
       "</table>\n",
       "</div>"
      ],
      "text/plain": [
       "   fixed acidity  volatile acidity  citric acid  residual sugar  chlorides  \\\n",
       "0            7.4              0.70         0.00             1.9      0.076   \n",
       "1            7.8              0.88         0.00             2.6      0.098   \n",
       "2            7.8              0.76         0.04             2.3      0.092   \n",
       "3           11.2              0.28         0.56             1.9      0.075   \n",
       "4            7.4              0.70         0.00             1.9      0.076   \n",
       "\n",
       "   free sulfur dioxide  total sulfur dioxide  density    pH  sulphates  \\\n",
       "0                 11.0                  34.0   0.9978  3.51       0.56   \n",
       "1                 25.0                  67.0   0.9968  3.20       0.68   \n",
       "2                 15.0                  54.0   0.9970  3.26       0.65   \n",
       "3                 17.0                  60.0   0.9980  3.16       0.58   \n",
       "4                 11.0                  34.0   0.9978  3.51       0.56   \n",
       "\n",
       "   alcohol  quality  \n",
       "0      9.4        5  \n",
       "1      9.8        5  \n",
       "2      9.8        5  \n",
       "3      9.8        6  \n",
       "4      9.4        5  "
      ]
     },
     "execution_count": 2,
     "metadata": {},
     "output_type": "execute_result"
    }
   ],
   "source": [
    "import pandas as pd\n",
    "\n",
    "red_wine = pd.read_csv('../input/dl-course-data/red-wine.csv')\n",
    "red_wine.head()"
   ]
  },
  {
   "cell_type": "markdown",
   "id": "c5c747f2",
   "metadata": {
    "papermill": {
     "duration": 0.006982,
     "end_time": "2022-10-05T11:20:08.153413",
     "exception": false,
     "start_time": "2022-10-05T11:20:08.146431",
     "status": "completed"
    },
    "tags": []
   },
   "source": [
    "You can get the number of rows and columns of a dataframe (or a Numpy array) with the `shape` attribute."
   ]
  },
  {
   "cell_type": "code",
   "execution_count": 3,
   "id": "7bf8a67e",
   "metadata": {
    "execution": {
     "iopub.execute_input": "2022-10-05T11:20:08.169885Z",
     "iopub.status.busy": "2022-10-05T11:20:08.169452Z",
     "iopub.status.idle": "2022-10-05T11:20:08.176664Z",
     "shell.execute_reply": "2022-10-05T11:20:08.175827Z"
    },
    "papermill": {
     "duration": 0.018771,
     "end_time": "2022-10-05T11:20:08.179602",
     "exception": false,
     "start_time": "2022-10-05T11:20:08.160831",
     "status": "completed"
    },
    "tags": []
   },
   "outputs": [
    {
     "data": {
      "text/plain": [
       "(1599, 12)"
      ]
     },
     "execution_count": 3,
     "metadata": {},
     "output_type": "execute_result"
    }
   ],
   "source": [
    "red_wine.shape # (rows, columns)"
   ]
  },
  {
   "cell_type": "markdown",
   "id": "99cf10e4",
   "metadata": {
    "papermill": {
     "duration": 0.007666,
     "end_time": "2022-10-05T11:20:08.194749",
     "exception": false,
     "start_time": "2022-10-05T11:20:08.187083",
     "status": "completed"
    },
    "tags": []
   },
   "source": [
    "# 1) Input shape #\n",
    "\n",
    "How well can we predict a wine's perceived quality from the physiochemical measurements?  \n",
    "\n",
    "The target is `'quality'`, and the remaining columns are the features.  How would you set the `input_shape` parameter for a Keras model on this task?"
   ]
  },
  {
   "cell_type": "code",
   "execution_count": 4,
   "id": "52d9bb67",
   "metadata": {
    "execution": {
     "iopub.execute_input": "2022-10-05T11:20:08.208515Z",
     "iopub.status.busy": "2022-10-05T11:20:08.208092Z",
     "iopub.status.idle": "2022-10-05T11:20:08.216820Z",
     "shell.execute_reply": "2022-10-05T11:20:08.215967Z"
    },
    "lines_to_next_cell": 0,
    "papermill": {
     "duration": 0.017405,
     "end_time": "2022-10-05T11:20:08.218937",
     "exception": false,
     "start_time": "2022-10-05T11:20:08.201532",
     "status": "completed"
    },
    "tags": []
   },
   "outputs": [
    {
     "data": {
      "application/javascript": [
       "parent.postMessage({\"jupyterEvent\": \"custom.exercise_interaction\", \"data\": {\"outcomeType\": 1, \"valueTowardsCompletion\": 0.3333333333333333, \"interactionType\": 1, \"questionType\": 2, \"questionId\": \"1_Q1\", \"learnToolsVersion\": \"0.3.4\", \"failureMessage\": \"\", \"exceptionClass\": \"\", \"trace\": \"\"}}, \"*\")"
      ],
      "text/plain": [
       "<IPython.core.display.Javascript object>"
      ]
     },
     "metadata": {},
     "output_type": "display_data"
    },
    {
     "data": {
      "text/markdown": [
       "<span style=\"color:#33cc33\">Correct</span>"
      ],
      "text/plain": [
       "Correct"
      ]
     },
     "metadata": {},
     "output_type": "display_data"
    }
   ],
   "source": [
    "# YOUR CODE HERE\n",
    "input_shape = [11]\n",
    "\n",
    "# Check your answer\n",
    "q_1.check()"
   ]
  },
  {
   "cell_type": "code",
   "execution_count": 5,
   "id": "edb7da1e",
   "metadata": {
    "execution": {
     "iopub.execute_input": "2022-10-05T11:20:08.231769Z",
     "iopub.status.busy": "2022-10-05T11:20:08.231097Z",
     "iopub.status.idle": "2022-10-05T11:20:08.234796Z",
     "shell.execute_reply": "2022-10-05T11:20:08.234035Z"
    },
    "papermill": {
     "duration": 0.012527,
     "end_time": "2022-10-05T11:20:08.236884",
     "exception": false,
     "start_time": "2022-10-05T11:20:08.224357",
     "status": "completed"
    },
    "tags": []
   },
   "outputs": [],
   "source": [
    "# Lines below will give you a hint or solution code\n",
    "#q_1.hint()\n",
    "#q_1.solution()"
   ]
  },
  {
   "cell_type": "markdown",
   "id": "0175fe85",
   "metadata": {
    "papermill": {
     "duration": 0.005069,
     "end_time": "2022-10-05T11:20:08.247435",
     "exception": false,
     "start_time": "2022-10-05T11:20:08.242366",
     "status": "completed"
    },
    "tags": []
   },
   "source": [
    "# 2) Define a linear model\n",
    "\n",
    "Now define a linear model appropriate for this task. Pay attention to how many inputs and outputs the model should have."
   ]
  },
  {
   "cell_type": "code",
   "execution_count": 6,
   "id": "4cdc8ca4",
   "metadata": {
    "execution": {
     "iopub.execute_input": "2022-10-05T11:20:08.260261Z",
     "iopub.status.busy": "2022-10-05T11:20:08.259527Z",
     "iopub.status.idle": "2022-10-05T11:20:09.409283Z",
     "shell.execute_reply": "2022-10-05T11:20:09.408052Z"
    },
    "lines_to_next_cell": 0,
    "papermill": {
     "duration": 1.159266,
     "end_time": "2022-10-05T11:20:09.412027",
     "exception": false,
     "start_time": "2022-10-05T11:20:08.252761",
     "status": "completed"
    },
    "tags": []
   },
   "outputs": [
    {
     "name": "stderr",
     "output_type": "stream",
     "text": [
      "2022-10-05 11:20:09.335667: I tensorflow/core/common_runtime/process_util.cc:146] Creating new thread pool with default inter op setting: 2. Tune using inter_op_parallelism_threads for best performance.\n"
     ]
    },
    {
     "data": {
      "application/javascript": [
       "parent.postMessage({\"jupyterEvent\": \"custom.exercise_interaction\", \"data\": {\"outcomeType\": 1, \"valueTowardsCompletion\": 0.3333333333333333, \"interactionType\": 1, \"questionType\": 2, \"questionId\": \"2_Q2\", \"learnToolsVersion\": \"0.3.4\", \"failureMessage\": \"\", \"exceptionClass\": \"\", \"trace\": \"\"}}, \"*\")"
      ],
      "text/plain": [
       "<IPython.core.display.Javascript object>"
      ]
     },
     "metadata": {},
     "output_type": "display_data"
    },
    {
     "data": {
      "text/markdown": [
       "<span style=\"color:#33cc33\">Correct</span>"
      ],
      "text/plain": [
       "Correct"
      ]
     },
     "metadata": {},
     "output_type": "display_data"
    }
   ],
   "source": [
    "from tensorflow import keras\n",
    "from tensorflow.keras import layers\n",
    "\n",
    "# YOUR CODE HERE\n",
    "model = keras.Sequential([layers.Dense(units = 1, input_shape = [11])])\n",
    "\n",
    "# Check your answer\n",
    "q_2.check()"
   ]
  },
  {
   "cell_type": "code",
   "execution_count": 7,
   "id": "95d32cc1",
   "metadata": {
    "execution": {
     "iopub.execute_input": "2022-10-05T11:20:09.426721Z",
     "iopub.status.busy": "2022-10-05T11:20:09.426118Z",
     "iopub.status.idle": "2022-10-05T11:20:09.430449Z",
     "shell.execute_reply": "2022-10-05T11:20:09.429575Z"
    },
    "papermill": {
     "duration": 0.013535,
     "end_time": "2022-10-05T11:20:09.432509",
     "exception": false,
     "start_time": "2022-10-05T11:20:09.418974",
     "status": "completed"
    },
    "tags": []
   },
   "outputs": [],
   "source": [
    "# Lines below will give you a hint or solution code\n",
    "#q_2.hint()\n",
    "#q_2.solution()"
   ]
  },
  {
   "cell_type": "markdown",
   "id": "1e34f5c6",
   "metadata": {
    "papermill": {
     "duration": 0.005394,
     "end_time": "2022-10-05T11:20:09.443730",
     "exception": false,
     "start_time": "2022-10-05T11:20:09.438336",
     "status": "completed"
    },
    "tags": []
   },
   "source": [
    "# 3) Look at the weights\n",
    "\n",
    "Internally, Keras represents the weights of a neural network with **tensors**. Tensors are basically TensorFlow's version of a Numpy array with a few differences that make them better suited to deep learning. One of the most important is that tensors are compatible with [GPU](https://www.kaggle.com/docs/efficient-gpu-usage) and [TPU](https://www.kaggle.com/docs/tpu)) accelerators. TPUs, in fact, are designed specifically for tensor computations.\n",
    "\n",
    "A model's weights are kept in its `weights` attribute as a list of tensors. Get the weights of the model you defined above. (If you want, you could display the weights with something like: `print(\"Weights\\n{}\\n\\nBias\\n{}\".format(w, b))`)."
   ]
  },
  {
   "cell_type": "code",
   "execution_count": 8,
   "id": "7be83797",
   "metadata": {
    "execution": {
     "iopub.execute_input": "2022-10-05T11:20:09.457278Z",
     "iopub.status.busy": "2022-10-05T11:20:09.456539Z",
     "iopub.status.idle": "2022-10-05T11:20:09.465958Z",
     "shell.execute_reply": "2022-10-05T11:20:09.464774Z"
    },
    "lines_to_next_cell": 0,
    "papermill": {
     "duration": 0.018821,
     "end_time": "2022-10-05T11:20:09.468252",
     "exception": false,
     "start_time": "2022-10-05T11:20:09.449431",
     "status": "completed"
    },
    "tags": []
   },
   "outputs": [
    {
     "data": {
      "application/javascript": [
       "parent.postMessage({\"jupyterEvent\": \"custom.exercise_interaction\", \"data\": {\"outcomeType\": 1, \"valueTowardsCompletion\": 0.3333333333333333, \"interactionType\": 1, \"questionType\": 2, \"questionId\": \"3_Q3\", \"learnToolsVersion\": \"0.3.4\", \"failureMessage\": \"\", \"exceptionClass\": \"\", \"trace\": \"\"}}, \"*\")"
      ],
      "text/plain": [
       "<IPython.core.display.Javascript object>"
      ]
     },
     "metadata": {},
     "output_type": "display_data"
    },
    {
     "data": {
      "text/markdown": [
       "<span style=\"color:#33cc33\">Correct:</span> Do you see how there's one weight for each input (and a bias)? Notice though that there doesn't seem to be any pattern to the values the weights have. Before the model is trained, the weights are set to random numbers (and the bias to 0.0). A neural network learns by finding better values for its weights.\n"
      ],
      "text/plain": [
       "Correct: Do you see how there's one weight for each input (and a bias)? Notice though that there doesn't seem to be any pattern to the values the weights have. Before the model is trained, the weights are set to random numbers (and the bias to 0.0). A neural network learns by finding better values for its weights."
      ]
     },
     "metadata": {},
     "output_type": "display_data"
    }
   ],
   "source": [
    "# YOUR CODE HERE\n",
    "w, b = model.weights\n",
    "\n",
    "# Check your answer\n",
    "q_3.check()"
   ]
  },
  {
   "cell_type": "code",
   "execution_count": 9,
   "id": "8d78f8c1",
   "metadata": {
    "execution": {
     "iopub.execute_input": "2022-10-05T11:20:09.482100Z",
     "iopub.status.busy": "2022-10-05T11:20:09.481667Z",
     "iopub.status.idle": "2022-10-05T11:20:09.486076Z",
     "shell.execute_reply": "2022-10-05T11:20:09.484843Z"
    },
    "lines_to_next_cell": 0,
    "papermill": {
     "duration": 0.014051,
     "end_time": "2022-10-05T11:20:09.488331",
     "exception": false,
     "start_time": "2022-10-05T11:20:09.474280",
     "status": "completed"
    },
    "tags": []
   },
   "outputs": [],
   "source": [
    "# Lines below will give you a hint or solution code\n",
    "#q_3.hint()\n",
    "#q_3.solution()"
   ]
  },
  {
   "cell_type": "markdown",
   "id": "be127ed9",
   "metadata": {
    "papermill": {
     "duration": 0.005735,
     "end_time": "2022-10-05T11:20:09.500227",
     "exception": false,
     "start_time": "2022-10-05T11:20:09.494492",
     "status": "completed"
    },
    "tags": []
   },
   "source": [
    "(By the way, Keras represents weights as tensors, but also uses tensors to represent data. When you set the `input_shape` argument, you are telling Keras the dimensions of the array it should expect for each example in the training data. Setting `input_shape=[3]` would create a network accepting vectors of length 3, like `[0.2, 0.4, 0.6]`.)\n",
    " \n",
    "\n",
    "# Optional: Plot the output of an untrained linear model\n",
    " \n",
    "The kinds of problems we'll work on through Lesson 5 will be *regression* problems, where the goal is to predict some numeric target. Regression problems are like \"curve-fitting\" problems: we're trying to find a curve that best fits the data. Let's take a look at the \"curve\" produced by a linear model. (You've probably guessed that it's a line!)\n",
    " \n",
    "We mentioned that before training a model's weights are set randomly. Run the cell below a few times to see the different lines produced with a random initialization. (There's no coding for this exercise -- it's just a demonstration.)"
   ]
  },
  {
   "cell_type": "code",
   "execution_count": 10,
   "id": "7d5f07e3",
   "metadata": {
    "execution": {
     "iopub.execute_input": "2022-10-05T11:20:09.514643Z",
     "iopub.status.busy": "2022-10-05T11:20:09.513826Z",
     "iopub.status.idle": "2022-10-05T11:20:10.323871Z",
     "shell.execute_reply": "2022-10-05T11:20:10.322977Z"
    },
    "lines_to_next_cell": 0,
    "papermill": {
     "duration": 0.820042,
     "end_time": "2022-10-05T11:20:10.326259",
     "exception": false,
     "start_time": "2022-10-05T11:20:09.506217",
     "status": "completed"
    },
    "tags": []
   },
   "outputs": [
    {
     "name": "stderr",
     "output_type": "stream",
     "text": [
      "2022-10-05 11:20:09.827015: I tensorflow/compiler/mlir/mlir_graph_optimization_pass.cc:185] None of the MLIR Optimization Passes are enabled (registered 2)\n"
     ]
    },
    {
     "data": {
      "image/png": "[encoded data removed]",
      "text/plain": [
       "<Figure size 600x400 with 1 Axes>"
      ]
     },
     "metadata": {},
     "output_type": "display_data"
    }
   ],
   "source": [
    "import tensorflow as tf\n",
    "import matplotlib.pyplot as plt\n",
    "\n",
    "model = keras.Sequential([\n",
    "    layers.Dense(1, input_shape=[1]),\n",
    "])\n",
    "\n",
    "x = tf.linspace(-1.0, 1.0, 100)\n",
    "y = model.predict(x)\n",
    "\n",
    "plt.figure(dpi=100)\n",
    "plt.plot(x, y, 'k')\n",
    "plt.xlim(-1, 1)\n",
    "plt.ylim(-1, 1)\n",
    "plt.xlabel(\"Input: x\")\n",
    "plt.ylabel(\"Target y\")\n",
    "w, b = model.weights # you could also use model.get_weights() here\n",
    "plt.title(\"Weight: {:0.2f}\\nBias: {:0.2f}\".format(w[0][0], b[0]))\n",
    "plt.show()"
   ]
  },
  {
   "cell_type": "markdown",
   "id": "29c43be4",
   "metadata": {
    "papermill": {
     "duration": 0.006292,
     "end_time": "2022-10-05T11:20:10.339245",
     "exception": false,
     "start_time": "2022-10-05T11:20:10.332953",
     "status": "completed"
    },
    "tags": []
   },
   "source": [
    "# Keep Going #\n",
    "\n",
    "Add hidden layers and [**make your models deep**](https://www.kaggle.com/ryanholbrook/deep-neural-networks) in Lesson 2."
   ]
  },
  {
   "cell_type": "markdown",
   "id": "d04ce052",
   "metadata": {
    "papermill": {
     "duration": 0.006356,
     "end_time": "2022-10-05T11:20:10.352179",
     "exception": false,
     "start_time": "2022-10-05T11:20:10.345823",
     "status": "completed"
    },
    "tags": []
   },
   "source": [
    "---\n",
    "\n",
    "\n",
    "\n",
    "\n",
    "*Have questions or comments? Visit the [course discussion forum](https://www.kaggle.com/learn/intro-to-deep-learning/discussion) to chat with other learners.*"
   ]
  }
 ],
 "metadata": {
  "kernelspec": {
   "display_name": "Python 3",
   "language": "python",
   "name": "python3"
  },
  "language_info": {
   "codemirror_mode": {
    "name": "ipython",
    "version": 3
   },
   "file_extension": ".py",
   "mimetype": "text/x-python",
   "name": "python",
   "nbconvert_exporter": "python",
   "pygments_lexer": "ipython3",
   "version": "3.7.12"
  },
  "papermill": {
   "default_parameters": {},
   "duration": 20.18604,
   "end_time": "2022-10-05T11:20:13.411403",
   "environment_variables": {},
   "exception": null,
   "input_path": "__notebook__.ipynb",
   "output_path": "__notebook__.ipynb",
   "parameters": {},
   "start_time": "2022-10-05T11:19:53.225363",
   "version": "2.3.4"
  }
 },
 "nbformat": 4,
 "nbformat_minor": 5
}
